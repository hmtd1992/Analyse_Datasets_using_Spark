{
 "cells": [
  {
   "cell_type": "markdown",
   "metadata": {},
   "source": [
    "### Analyzing London crime statistics"
   ]
  },
  {
   "cell_type": "code",
   "execution_count": 1,
   "metadata": {},
   "outputs": [],
   "source": [
    "from pyspark.sql import SparkSession\n",
    "\n",
    "spark = SparkSession \\\n",
    "    .builder \\\n",
    "    .appName(\"London crime data\") \\\n",
    "    .getOrCreate()"
   ]
  },
  {
   "cell_type": "markdown",
   "metadata": {},
   "source": [
    "#### Reading external data as a dataframe"
   ]
  },
  {
   "cell_type": "code",
   "execution_count": 2,
   "metadata": {},
   "outputs": [],
   "source": [
    "data = spark.read\\\n",
    "            .format(\"csv\")\\\n",
    "            .option(\"header\", \"true\")\\\n",
    "            .load(\"../datasets/london_crime_by_lsoa.csv\")"
   ]
  },
  {
   "cell_type": "code",
   "execution_count": 3,
   "metadata": {},
   "outputs": [
    {
     "name": "stdout",
     "output_type": "stream",
     "text": [
      "root\n",
      " |-- lsoa_code: string (nullable = true)\n",
      " |-- borough: string (nullable = true)\n",
      " |-- major_category: string (nullable = true)\n",
      " |-- minor_category: string (nullable = true)\n",
      " |-- value: string (nullable = true)\n",
      " |-- year: string (nullable = true)\n",
      " |-- month: string (nullable = true)\n",
      "\n"
     ]
    }
   ],
   "source": [
    "data.printSchema()"
   ]
  },
  {
   "cell_type": "code",
   "execution_count": 4,
   "metadata": {},
   "outputs": [
    {
     "data": {
      "text/plain": [
       "13490604"
      ]
     },
     "execution_count": 4,
     "metadata": {},
     "output_type": "execute_result"
    }
   ],
   "source": [
    "data.count()"
   ]
  },
  {
   "cell_type": "code",
   "execution_count": 5,
   "metadata": {},
   "outputs": [
    {
     "name": "stdout",
     "output_type": "stream",
     "text": [
      "+---------+----------+--------------------+--------------------+-----+----+-----+\n",
      "|lsoa_code|   borough|      major_category|      minor_category|value|year|month|\n",
      "+---------+----------+--------------------+--------------------+-----+----+-----+\n",
      "|E01001116|   Croydon|            Burglary|Burglary in Other...|    0|2016|   11|\n",
      "|E01001646| Greenwich|Violence Against ...|      Other violence|    0|2016|   11|\n",
      "|E01000677|   Bromley|Violence Against ...|      Other violence|    0|2015|    5|\n",
      "|E01003774| Redbridge|            Burglary|Burglary in Other...|    0|2016|    3|\n",
      "|E01004563|Wandsworth|             Robbery|   Personal Property|    0|2008|    6|\n",
      "+---------+----------+--------------------+--------------------+-----+----+-----+\n",
      "\n"
     ]
    }
   ],
   "source": [
    "data.limit(5).show()"
   ]
  },
  {
   "cell_type": "code",
   "execution_count": 6,
   "metadata": {},
   "outputs": [
    {
     "data": {
      "text/plain": [
       "DataFrame[lsoa_code: string, borough: string, major_category: string, minor_category: string, value: string, year: string, month: string]"
      ]
     },
     "execution_count": 6,
     "metadata": {},
     "output_type": "execute_result"
    }
   ],
   "source": [
    "data.dropna()"
   ]
  },
  {
   "cell_type": "code",
   "execution_count": 7,
   "metadata": {},
   "outputs": [
    {
     "name": "stdout",
     "output_type": "stream",
     "text": [
      "+----------+--------------------+--------------------+-----+----+-----+\n",
      "|   borough|      major_category|      minor_category|value|year|month|\n",
      "+----------+--------------------+--------------------+-----+----+-----+\n",
      "|   Croydon|            Burglary|Burglary in Other...|    0|2016|   11|\n",
      "| Greenwich|Violence Against ...|      Other violence|    0|2016|   11|\n",
      "|   Bromley|Violence Against ...|      Other violence|    0|2015|    5|\n",
      "| Redbridge|            Burglary|Burglary in Other...|    0|2016|    3|\n",
      "|Wandsworth|             Robbery|   Personal Property|    0|2008|    6|\n",
      "+----------+--------------------+--------------------+-----+----+-----+\n",
      "only showing top 5 rows\n",
      "\n"
     ]
    }
   ],
   "source": [
    "data = data.drop(\"lsoa_code\")\n",
    "\n",
    "data.show(5)"
   ]
  },
  {
   "cell_type": "markdown",
   "metadata": {},
   "source": [
    "#### Boroughs included in the report"
   ]
  },
  {
   "cell_type": "code",
   "execution_count": 8,
   "metadata": {},
   "outputs": [
    {
     "name": "stdout",
     "output_type": "stream",
     "text": [
      "+--------------------+\n",
      "|             borough|\n",
      "+--------------------+\n",
      "|             Croydon|\n",
      "|          Wandsworth|\n",
      "|              Bexley|\n",
      "|             Lambeth|\n",
      "|Barking and Dagenham|\n",
      "|              Camden|\n",
      "|           Greenwich|\n",
      "|              Newham|\n",
      "|       Tower Hamlets|\n",
      "|            Hounslow|\n",
      "|              Barnet|\n",
      "|              Harrow|\n",
      "|Kensington and Ch...|\n",
      "|           Islington|\n",
      "|               Brent|\n",
      "|            Haringey|\n",
      "|             Bromley|\n",
      "|              Merton|\n",
      "|         Westminster|\n",
      "|             Hackney|\n",
      "+--------------------+\n",
      "only showing top 20 rows\n",
      "\n"
     ]
    }
   ],
   "source": [
    "total_boroughs = data.select('borough')\\\n",
    "                     .distinct()\\\n",
    "        \n",
    "total_boroughs.show()"
   ]
  },
  {
   "cell_type": "code",
   "execution_count": 9,
   "metadata": {},
   "outputs": [
    {
     "data": {
      "text/plain": [
       "33"
      ]
     },
     "execution_count": 9,
     "metadata": {},
     "output_type": "execute_result"
    }
   ],
   "source": [
    "total_boroughs.count()"
   ]
  },
  {
   "cell_type": "code",
   "execution_count": 12,
   "metadata": {},
   "outputs": [
    {
     "name": "stdout",
     "output_type": "stream",
     "text": [
      "+--------------------+--------------------+--------------------+-----+----+-----+\n",
      "|             borough|      major_category|      minor_category|value|year|month|\n",
      "+--------------------+--------------------+--------------------+-----+----+-----+\n",
      "|            Hounslow|     Criminal Damage|Criminal Damage T...|    0|2015|    2|\n",
      "|             Croydon|  Theft and Handling|         Other Theft|    1|2014|    5|\n",
      "|Hammersmith and F...|             Robbery|   Business Property|    0|2014|    9|\n",
      "|              Ealing|             Robbery|   Personal Property|    0|2014|    9|\n",
      "|             Enfield|Violence Against ...|      Other violence|    1|2014|    9|\n",
      "|Kensington and Ch...|  Theft and Handling|         Other Theft|    2|2016|    9|\n",
      "|              Ealing|  Theft and Handling|Theft/Taking Of M...|    0|2016|    1|\n",
      "|             Lambeth|     Sexual Offences|                Rape|    0|2014|    3|\n",
      "|              Ealing|Violence Against ...|        Wounding/GBH|    0|2015|   12|\n",
      "|      Waltham Forest|Violence Against ...|      Common Assault|    0|2016|    6|\n",
      "|            Haringey|  Theft and Handling|Handling Stolen G...|    0|2015|   12|\n",
      "|             Enfield|               Drugs|         Other Drugs|    0|2014|    6|\n",
      "|       Tower Hamlets|Violence Against ...|          Harassment|    1|2016|   10|\n",
      "|          Hillingdon|Violence Against ...|        Wounding/GBH|    1|2015|    6|\n",
      "|            Lewisham|Violence Against ...|          Harassment|    2|2015|    3|\n",
      "|             Lambeth|  Theft and Handling|  Other Theft Person|   10|2015|    4|\n",
      "|              Barnet|            Burglary|Burglary in a Dwe...|    1|2015|    8|\n",
      "|           Southwark|Other Notifiable ...|    Other Notifiable|    0|2014|    6|\n",
      "|          Wandsworth|  Theft and Handling|Theft/Taking Of M...|    0|2015|    9|\n",
      "|             Croydon|Violence Against ...|        Wounding/GBH|    0|2016|   10|\n",
      "+--------------------+--------------------+--------------------+-----+----+-----+\n",
      "only showing top 20 rows\n",
      "\n"
     ]
    }
   ],
   "source": [
    "data_2014_onwards = data.filter(data['year'] >= 2014 )\n",
    "\n",
    "data_2014_onwards.sample(fraction=0.1).show()"
   ]
  },
  {
   "cell_type": "markdown",
   "metadata": {},
   "source": [
    "#### Total crime per borough"
   ]
  },
  {
   "cell_type": "code",
   "execution_count": 13,
   "metadata": {},
   "outputs": [
    {
     "name": "stdout",
     "output_type": "stream",
     "text": [
      "+--------------------+------+\n",
      "|             borough| count|\n",
      "+--------------------+------+\n",
      "|             Croydon|602100|\n",
      "|          Wandsworth|498636|\n",
      "|              Bexley|385668|\n",
      "|             Lambeth|519048|\n",
      "|Barking and Dagenham|311040|\n",
      "+--------------------+------+\n",
      "only showing top 5 rows\n",
      "\n"
     ]
    }
   ],
   "source": [
    "borough_crime_count = data.groupBy('borough')\\\n",
    "                          .count()\n",
    "    \n",
    "borough_crime_count.show(5)"
   ]
  },
  {
   "cell_type": "markdown",
   "metadata": {},
   "source": [
    "#### Total convictions per borough"
   ]
  },
  {
   "cell_type": "code",
   "execution_count": 14,
   "metadata": {},
   "outputs": [
    {
     "name": "stdout",
     "output_type": "stream",
     "text": [
      "+--------------------+----------+\n",
      "|             borough|sum(value)|\n",
      "+--------------------+----------+\n",
      "|             Croydon|  260294.0|\n",
      "|          Wandsworth|  204741.0|\n",
      "|              Bexley|  114136.0|\n",
      "|             Lambeth|  292178.0|\n",
      "|Barking and Dagenham|  149447.0|\n",
      "+--------------------+----------+\n",
      "only showing top 5 rows\n",
      "\n"
     ]
    }
   ],
   "source": [
    "borough_conviction_sum = data.groupBy('borough')\\\n",
    "                             .agg({\"value\":\"sum\"})\n",
    "\n",
    "borough_conviction_sum.show(5)"
   ]
  },
  {
   "cell_type": "code",
   "execution_count": 15,
   "metadata": {},
   "outputs": [
    {
     "name": "stdout",
     "output_type": "stream",
     "text": [
      "+--------------------+-----------+\n",
      "|             borough|convictions|\n",
      "+--------------------+-----------+\n",
      "|             Croydon|   260294.0|\n",
      "|          Wandsworth|   204741.0|\n",
      "|              Bexley|   114136.0|\n",
      "|             Lambeth|   292178.0|\n",
      "|Barking and Dagenham|   149447.0|\n",
      "+--------------------+-----------+\n",
      "only showing top 5 rows\n",
      "\n"
     ]
    }
   ],
   "source": [
    "borough_conviction_sum = data.groupBy('borough')\\\n",
    "                             .agg({\"value\":\"sum\"})\\\n",
    "                             .withColumnRenamed(\"sum(value)\",\"convictions\")\n",
    "\n",
    "borough_conviction_sum.show(5)"
   ]
  },
  {
   "cell_type": "code",
   "execution_count": 16,
   "metadata": {},
   "outputs": [
    {
     "name": "stdout",
     "output_type": "stream",
     "text": [
      "+----------------+\n",
      "|sum(convictions)|\n",
      "+----------------+\n",
      "|       6447758.0|\n",
      "+----------------+\n",
      "\n"
     ]
    }
   ],
   "source": [
    "total_borough_convictions = borough_conviction_sum.agg({\"convictions\":\"sum\"})\n",
    "\n",
    "total_borough_convictions.show()"
   ]
  },
  {
   "cell_type": "markdown",
   "metadata": {},
   "source": [
    "Extracting total convictions into a variable"
   ]
  },
  {
   "cell_type": "code",
   "execution_count": 17,
   "metadata": {},
   "outputs": [],
   "source": [
    "total_convictions = total_borough_convictions.collect()[0][0]"
   ]
  },
  {
   "cell_type": "markdown",
   "metadata": {},
   "source": [
    "A new column which contains the % convictions for each borough"
   ]
  },
  {
   "cell_type": "code",
   "execution_count": 18,
   "metadata": {},
   "outputs": [],
   "source": [
    "import pyspark.sql.functions as func"
   ]
  },
  {
   "cell_type": "code",
   "execution_count": 19,
   "metadata": {},
   "outputs": [
    {
     "name": "stdout",
     "output_type": "stream",
     "text": [
      "root\n",
      " |-- borough: string (nullable = true)\n",
      " |-- convictions: double (nullable = true)\n",
      " |-- % contribution: double (nullable = true)\n",
      "\n"
     ]
    }
   ],
   "source": [
    "borough_percentage_contribution = borough_conviction_sum.withColumn(\n",
    "    \"% contribution\",\n",
    "    func.round(borough_conviction_sum.convictions / total_convictions * 100, 2))\n",
    "\n",
    "borough_percentage_contribution.printSchema()"
   ]
  },
  {
   "cell_type": "code",
   "execution_count": 20,
   "metadata": {},
   "outputs": [
    {
     "name": "stdout",
     "output_type": "stream",
     "text": [
      "+-------------+-----------+--------------+\n",
      "|      borough|convictions|% contribution|\n",
      "+-------------+-----------+--------------+\n",
      "|  Westminster|   455028.0|          7.06|\n",
      "|      Lambeth|   292178.0|          4.53|\n",
      "|    Southwark|   278809.0|          4.32|\n",
      "|       Camden|   275147.0|          4.27|\n",
      "|       Newham|   262024.0|          4.06|\n",
      "|      Croydon|   260294.0|          4.04|\n",
      "|       Ealing|   251562.0|           3.9|\n",
      "|    Islington|   230286.0|          3.57|\n",
      "|Tower Hamlets|   228613.0|          3.55|\n",
      "|        Brent|   227551.0|          3.53|\n",
      "+-------------+-----------+--------------+\n",
      "only showing top 10 rows\n",
      "\n"
     ]
    }
   ],
   "source": [
    "borough_percentage_contribution.orderBy(borough_percentage_contribution[2].desc())\\\n",
    "                               .show(10)"
   ]
  }
 ],
 "metadata": {
  "kernelspec": {
   "display_name": "Python 3",
   "language": "python",
   "name": "python3"
  },
  "language_info": {
   "codemirror_mode": {
    "name": "ipython",
    "version": 3
   },
   "file_extension": ".py",
   "mimetype": "text/x-python",
   "name": "python",
   "nbconvert_exporter": "python",
   "pygments_lexer": "ipython3",
   "version": "3.7.7"
  }
 },
 "nbformat": 4,
 "nbformat_minor": 2
}
